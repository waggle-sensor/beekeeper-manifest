{
 "cells": [
  {
   "cell_type": "code",
   "execution_count": null,
   "metadata": {},
   "outputs": [],
   "source": [
    "import pandas as pd\n",
    "import json\n",
    "import os\n",
    "# https://docs.djangoproject.com/en/4.1/howto/initial-data/\n",
    "# https://docs.djangoproject.com/en/4.1/topics/serialization/"
   ]
  },
  {
   "cell_type": "code",
   "execution_count": null,
   "metadata": {},
   "outputs": [],
   "source": [
    "xlsx_filename = 'production-mod.xlsx'\n",
    "sheet_name='main'\n",
    "prod_df = pd.read_excel(xlsx_filename,sheet_name=sheet_name)"
   ]
  },
  {
   "cell_type": "code",
   "execution_count": null,
   "metadata": {},
   "outputs": [],
   "source": [
    "prod_df.T"
   ]
  },
  {
   "cell_type": "code",
   "execution_count": null,
   "metadata": {},
   "outputs": [],
   "source": [
    "list(prod_df.columns)"
   ]
  },
  {
   "cell_type": "code",
   "execution_count": null,
   "metadata": {},
   "outputs": [],
   "source": [
    "print(f'Unique values of {xlsx_filename}, sheet = {sheet_name}')\n",
    "for clmn in list(prod_df.columns):\n",
    "    print(clmn,':',prod_df[clmn].unique())\n",
    "    print('')"
   ]
  },
  {
   "cell_type": "code",
   "execution_count": null,
   "metadata": {},
   "outputs": [],
   "source": [
    "list(prod_df.columns)"
   ]
  },
  {
   "cell_type": "code",
   "execution_count": null,
   "metadata": {},
   "outputs": [],
   "source": [
    "def create_node(params,base_model='ManifestApp',sub_model='nodedata'):\n",
    "    django_schema = {\n",
    "        \"model\": base_model+\".\"+sub_model,\n",
    "        \"pk\": params['pk'],\n",
    "        \"fields\": {\n",
    "            \"VSN\": params['vsn'],\n",
    "            \"name\": params['name'],\n",
    "            \"gps_lat\": params['gps_lat'],\n",
    "            \"gps_lan\": params['gps_lon'],\n",
    "            \"tags\": [\n",
    "                1\n",
    "            ]\n",
    "        }\n",
    "    }\n",
    "    return django_schema"
   ]
  },
  {
   "cell_type": "code",
   "execution_count": null,
   "metadata": {},
   "outputs": [],
   "source": [
    "prod_df.fillna('', inplace=True)\n",
    "node_data = prod_df[['vsn','name','gps_lat','gps_lon']].to_dict(orient='records')"
   ]
  },
  {
   "cell_type": "code",
   "execution_count": null,
   "metadata": {},
   "outputs": [],
   "source": [
    "node_list = []\n",
    "for i,node_dict in enumerate(node_data):\n",
    "    params = {'pk': i+1, **node_dict}\n",
    "    node_list.append(create_node(params))"
   ]
  },
  {
   "cell_type": "code",
   "execution_count": null,
   "metadata": {},
   "outputs": [],
   "source": [
    "fixture_path='../api/ManifestApp/fixtures'\n",
    "full_path = os.path.join(fixture_path,'node_fixture.json')\n",
    "with open(full_path, 'w') as f:\n",
    "    json.dump(node_list, f)"
   ]
  },
  {
   "cell_type": "code",
   "execution_count": null,
   "metadata": {},
   "outputs": [],
   "source": [
    "tags = [{\n",
    "        \"model\": \"ManifestApp.tag\",\n",
    "        \"pk\": 1,\n",
    "        \"fields\": {\n",
    "            \"tag\": 1\n",
    "        }\n",
    "    }]\n",
    "\n",
    "fixture_path='../api/ManifestApp/fixtures'\n",
    "full_path = os.path.join(fixture_path,'tag_fixture.json')\n",
    "with open(full_path, 'w') as f:\n",
    "    json.dump(tags, f)"
   ]
  }
 ],
 "metadata": {
  "kernelspec": {
   "display_name": "Python 3.9.10 64-bit",
   "language": "python",
   "name": "python3"
  },
  "language_info": {
   "codemirror_mode": {
    "name": "ipython",
    "version": 3
   },
   "file_extension": ".py",
   "mimetype": "text/x-python",
   "name": "python",
   "nbconvert_exporter": "python",
   "pygments_lexer": "ipython3",
   "version": "3.9.15"
  },
  "orig_nbformat": 4,
  "vscode": {
   "interpreter": {
    "hash": "397704579725e15f5c7cb49fe5f0341eb7531c82d19f2c29d197e8b64ab5776b"
   }
  }
 },
 "nbformat": 4,
 "nbformat_minor": 2
}
